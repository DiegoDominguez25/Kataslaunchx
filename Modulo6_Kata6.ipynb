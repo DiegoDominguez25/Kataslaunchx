{
 "cells": [
  {
   "cell_type": "markdown",
   "metadata": {},
   "source": [
    "# Ejercicio 1"
   ]
  },
  {
   "cell_type": "code",
   "execution_count": 37,
   "metadata": {},
   "outputs": [
    {
     "name": "stdout",
     "output_type": "stream",
     "text": [
      "Los planetas del sistemar solar en total son 8\n"
     ]
    }
   ],
   "source": [
    "planets = ['Mercurio','Venus','Tierra','Marte','Júpiter','Saturno','Urano','Neptuno']\n",
    "number_of_planets =  len(planets)\n",
    "print(\"Los planetas del sistemar solar en total son\",number_of_planets)"
   ]
  },
  {
   "cell_type": "code",
   "execution_count": 38,
   "metadata": {},
   "outputs": [
    {
     "name": "stdout",
     "output_type": "stream",
     "text": [
      "Los planetas del sistemar solar en total son 9\n",
      "El último elemento de la lista es Plutón\n"
     ]
    }
   ],
   "source": [
    "planets.append('Plutón')\n",
    "print(\"Los planetas del sistemar solar en total son\",len(planets))\n",
    "\n",
    "print(\"El último elemento de la lista es\", planets[-1])"
   ]
  },
  {
   "cell_type": "markdown",
   "metadata": {},
   "source": [
    "# Ejercicio 2"
   ]
  },
  {
   "cell_type": "code",
   "execution_count": 39,
   "metadata": {},
   "outputs": [],
   "source": [
    "planets_ = ['Mercury', 'Venus', 'Earth', 'Mars', 'Jupiter', 'Saturn', 'Neptune']\n",
    "planet = input(\"Dame el nombre de un planeta, por favor comienza con mayúscula dicho nombre\")\n",
    "planet_index = planets_.index(planet)"
   ]
  },
  {
   "cell_type": "code",
   "execution_count": 40,
   "metadata": {},
   "outputs": [
    {
     "name": "stdout",
     "output_type": "stream",
     "text": [
      "Los planetas más cerca de Earth son:\n",
      "['Mercury', 'Venus']\n",
      "Ahora bien, los planetas más lejos de Earth son:\n",
      "['Mars', 'Jupiter', 'Saturn', 'Neptune']\n"
     ]
    }
   ],
   "source": [
    "print(\"Los planetas más cerca de\",planet,\"son:\")\n",
    "print(planets_[0:planet_index])\n",
    "\n",
    "print(\"Ahora bien, los planetas más lejos de\",planet,\"son:\")\n",
    "print(planets_[planet_index+1:7])"
   ]
  }
 ],
 "metadata": {
  "interpreter": {
   "hash": "bc3c7abaf6c1250dd1bc72ab100b54dcf06cb70c59070798863b135f13db8608"
  },
  "kernelspec": {
   "display_name": "Python 3.10.2 64-bit",
   "language": "python",
   "name": "python3"
  },
  "language_info": {
   "codemirror_mode": {
    "name": "ipython",
    "version": 3
   },
   "file_extension": ".py",
   "mimetype": "text/x-python",
   "name": "python",
   "nbconvert_exporter": "python",
   "pygments_lexer": "ipython3",
   "version": "3.10.2"
  },
  "orig_nbformat": 4
 },
 "nbformat": 4,
 "nbformat_minor": 2
}
