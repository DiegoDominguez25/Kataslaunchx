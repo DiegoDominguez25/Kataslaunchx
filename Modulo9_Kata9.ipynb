{
 "cells": [
  {
   "cell_type": "markdown",
   "metadata": {},
   "source": [
    "# Ejercicio 1"
   ]
  },
  {
   "cell_type": "code",
   "execution_count": 182,
   "metadata": {},
   "outputs": [],
   "source": [
    "def reporte(tanque1, tanque2, tanque3):\n",
    "    promedio = (tanque1 + tanque2 + tanque3) / 3\n",
    "    return(print('Promedio de todos los tanques:',promedio,'%'))"
   ]
  },
  {
   "cell_type": "code",
   "execution_count": 183,
   "metadata": {},
   "outputs": [
    {
     "name": "stdout",
     "output_type": "stream",
     "text": [
      "Promedio de todos los tanques: 64.66666666666667 %\n"
     ]
    }
   ],
   "source": [
    "reporte(89, 65, 40)"
   ]
  },
  {
   "cell_type": "code",
   "execution_count": 184,
   "metadata": {},
   "outputs": [
    {
     "data": {
      "text/plain": [
       "64.66666666666667"
      ]
     },
     "execution_count": 184,
     "metadata": {},
     "output_type": "execute_result"
    }
   ],
   "source": [
    "def promedio_tanques(valores):\n",
    "    total = sum(valores)\n",
    "    return total/3\n",
    "\n",
    "promedio_tanques([89,65,40])\n"
   ]
  },
  {
   "cell_type": "code",
   "execution_count": 185,
   "metadata": {},
   "outputs": [
    {
     "name": "stdout",
     "output_type": "stream",
     "text": [
      "Promedio de todos los tanques: 64.66666666666667\n"
     ]
    }
   ],
   "source": [
    "def reporte(tanque1, tanque2, tanque3):\n",
    "    return(print(\"Promedio de todos los tanques:\",promedio_tanques([tanque1,tanque2,tanque3])))\n",
    "\n",
    "reporte(89,65,40)"
   ]
  },
  {
   "cell_type": "markdown",
   "metadata": {},
   "source": [
    "# Ejercicio 2"
   ]
  },
  {
   "cell_type": "code",
   "execution_count": 186,
   "metadata": {},
   "outputs": [
    {
     "name": "stdout",
     "output_type": "stream",
     "text": [
      "Reporte:\n",
      "    Misión a: Marte\n",
      "    Tiempo total de vuelo: 69 minutos\n",
      "    Total de combustible: 90 galones\n"
     ]
    }
   ],
   "source": [
    "def informe(prelanzamiento, tiempo_de_vuelo, destino, tanque_interno, tanque_externo):\n",
    "    return f\"\"\"Reporte:\n",
    "    Misión a: {destino}\n",
    "    Tiempo total de vuelo: {prelanzamiento + tiempo_de_vuelo} minutos\n",
    "    Total de combustible: {tanque_interno + tanque_externo} galones\"\"\"\n",
    "\n",
    "print(informe(24,45,'Marte',56,34))"
   ]
  },
  {
   "cell_type": "code",
   "execution_count": 187,
   "metadata": {},
   "outputs": [
    {
     "name": "stdout",
     "output_type": "stream",
     "text": [
      "Reporte:\n",
      "    Misión a: Marte\n",
      "    Tiempo total de vuelo: 69 minutos\n",
      "    Total de combustible: 90 galones\n"
     ]
    }
   ],
   "source": [
    "def informe_(destino,*minutes,**fuel_reservoirs):\n",
    "    return f\"\"\"Reporte:\n",
    "    Misión a: {destino}\n",
    "    Tiempo total de vuelo: {sum(minutes)} minutos\n",
    "    Total de combustible: {sum(fuel_reservoirs.values())} galones\"\"\"\n",
    "\n",
    "print(informe_('Marte',24,45,interno = 56,externo = 34))"
   ]
  },
  {
   "cell_type": "code",
   "execution_count": 188,
   "metadata": {},
   "outputs": [
    {
     "name": "stdout",
     "output_type": "stream",
     "text": [
      "Reporte:\n",
      "    Misión a: Marte\n",
      "    Tiempo total de vuelo: 69 minutos\n",
      "    Total de combustible: 90 galones\n",
      "Galones del tanque interno = 56 \n",
      "Galones del tanque externo = 34 \n",
      "\n"
     ]
    }
   ],
   "source": [
    "def informe_2(destino,*minutes,**fuel_reservoirs):\n",
    "    información = f\"\"\"Reporte:\n",
    "    Misión a: {destino}\n",
    "    Tiempo total de vuelo: {sum(minutes)} minutos\n",
    "    Total de combustible: {sum(fuel_reservoirs.values())} galones\\n\"\"\"\n",
    "    \n",
    "    for nombre_tanque, galones in fuel_reservoirs.items():\n",
    "        información = información + f\"\"\"Galones del tanque {nombre_tanque} = {galones} \\n\"\"\"\n",
    "    return información\n",
    "\n",
    "print(informe_2('Marte',24,45,interno = 56,externo = 34))"
   ]
  }
 ],
 "metadata": {
  "interpreter": {
   "hash": "bc3c7abaf6c1250dd1bc72ab100b54dcf06cb70c59070798863b135f13db8608"
  },
  "kernelspec": {
   "display_name": "Python 3.10.2 64-bit",
   "language": "python",
   "name": "python3"
  },
  "language_info": {
   "codemirror_mode": {
    "name": "ipython",
    "version": 3
   },
   "file_extension": ".py",
   "mimetype": "text/x-python",
   "name": "python",
   "nbconvert_exporter": "python",
   "pygments_lexer": "ipython3",
   "version": "3.10.2"
  },
  "orig_nbformat": 4
 },
 "nbformat": 4,
 "nbformat_minor": 2
}
