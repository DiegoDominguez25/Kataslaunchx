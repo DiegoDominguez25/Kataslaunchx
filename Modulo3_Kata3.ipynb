{
 "cells": [
  {
   "cell_type": "markdown",
   "metadata": {},
   "source": [
    "# Ejercicio 1"
   ]
  },
  {
   "cell_type": "code",
   "execution_count": 23,
   "metadata": {},
   "outputs": [
    {
     "name": "stdout",
     "output_type": "stream",
     "text": [
      "Advertencia de un asteroide cerca\n"
     ]
    }
   ],
   "source": [
    "asteroide = 49\n",
    "\n",
    "if asteroide >= 25:\n",
    "    print(\"Advertencia de un asteroide cerca\")\n",
    "else:\n",
    "    print(\"Todo seguro por ahora\")"
   ]
  },
  {
   "cell_type": "markdown",
   "metadata": {},
   "source": [
    "# Ejercicio 2"
   ]
  },
  {
   "cell_type": "code",
   "execution_count": 24,
   "metadata": {},
   "outputs": [
    {
     "name": "stdout",
     "output_type": "stream",
     "text": [
      "No hay nada que mirar hoy\n"
     ]
    }
   ],
   "source": [
    "asteroide2 = 19\n",
    "\n",
    "if asteroide2 > 20:\n",
    "    print(\"Miren el cielo! Un asteroide arriba\")\n",
    "elif asteroide2 == 20:\n",
    "    print(\"Miren el cielo! Un asteroide arriba\")\n",
    "else:\n",
    "    print(\"No hay nada que mirar hoy\")"
   ]
  },
  {
   "cell_type": "markdown",
   "metadata": {},
   "source": [
    "# Ejercicio 3"
   ]
  },
  {
   "cell_type": "code",
   "execution_count": 25,
   "metadata": {},
   "outputs": [
    {
     "name": "stdout",
     "output_type": "stream",
     "text": [
      "Sin nada que reportar\n"
     ]
    }
   ],
   "source": [
    "v_asteroide = 19\n",
    "t_asteroide = 49\n",
    "\n",
    "if v_asteroide > 25 and t_asteroide > 25:\n",
    "    print(\"Advertencia mundial, catastrofe segura\")\n",
    "elif v_asteroide < 25 and t_asteroide >25:\n",
    "    print(\"Sin nada que reportar\")\n",
    "elif v_asteroide >= 20:\n",
    "    print(\"Miren arriba! Luz en el cielo\")\n",
    "else:\n",
    "    print(\"Todo tranquilo por hoy\")"
   ]
  }
 ],
 "metadata": {
  "interpreter": {
   "hash": "bc3c7abaf6c1250dd1bc72ab100b54dcf06cb70c59070798863b135f13db8608"
  },
  "kernelspec": {
   "display_name": "Python 3.10.2 64-bit",
   "language": "python",
   "name": "python3"
  },
  "language_info": {
   "codemirror_mode": {
    "name": "ipython",
    "version": 3
   },
   "file_extension": ".py",
   "mimetype": "text/x-python",
   "name": "python",
   "nbconvert_exporter": "python",
   "pygments_lexer": "ipython3",
   "version": "3.10.2"
  },
  "orig_nbformat": 4
 },
 "nbformat": 4,
 "nbformat_minor": 2
}
